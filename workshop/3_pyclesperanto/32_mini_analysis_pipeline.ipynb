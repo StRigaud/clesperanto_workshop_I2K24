{
 "cells": [
  {
   "cell_type": "code",
   "execution_count": 1,
   "id": "69c32066",
   "metadata": {},
   "outputs": [],
   "source": [
    "import pyclesperanto as cle\n",
    "import numpy as np\n",
    "import pandas as pd\n",
    "from skimage.io import imread, imshow"
   ]
  },
  {
   "cell_type": "markdown",
   "id": "fa467b9c",
   "metadata": {},
   "source": [
    "# Analysis Pipeline\n",
    "\n",
    "Similarly to any other processing library, we can now build up an analysis pipeline using the various operations available to us. A few thing to keep in mind though:\n",
    "- `push` and `pull` are costly operation, we want to do as much as possible on the GPU before `pull`ing the data\n",
    "- GPU memory are limited, minimise the pipeline footprint on memory by processing per smallest unitary block"
   ]
  },
  {
   "cell_type": "markdown",
   "id": "274a322e",
   "metadata": {},
   "source": [
    "## Object segmentation\n",
    "\n",
    "You can use classical filters like `gaussian_blur`, `threshold_otsu`, `opening` and `closing`, `top_hat`, and `connected_component_labeling`. Or pre-construct pipeline or more advance algorithm such as `voronoi_otsu_labeling` and `morphological_chan_vese`."
   ]
  },
  {
   "cell_type": "code",
   "execution_count": null,
   "id": "0c0d5c20",
   "metadata": {},
   "outputs": [],
   "source": [
    "image = imread(\"../../data/1773_H11_1.tif\")[...,1]\n",
    "\n",
    "sigma=13\n",
    "radius=11\n",
    "blurred = cle.gaussian_blur(image, sigma_x=sigma, sigma_y=sigma)\n",
    "binary = cle.threshold_otsu(blurred)\n",
    "segmented = cle.opening(binary, radius_x=radius, radius_y=radius)\n",
    "labelled = cle.connected_component_labeling(segmented)\n",
    "labelled"
   ]
  },
  {
   "cell_type": "markdown",
   "id": "f2d13202",
   "metadata": {},
   "source": [
    "## Post-processing and analysis\n",
    "\n",
    "Once we have a segmentation, we usually have to filter the results to remove unwanted objects (e.g. nuclei touching the edges) and extract some quantifications from it"
   ]
  },
  {
   "cell_type": "code",
   "execution_count": null,
   "id": "6bf8df9a",
   "metadata": {},
   "outputs": [],
   "source": [
    "cleanned = cle.remove_labels_on_edges(labelled)\n",
    "cleanned"
   ]
  },
  {
   "cell_type": "code",
   "execution_count": null,
   "id": "89615bf0",
   "metadata": {},
   "outputs": [],
   "source": [
    "props = cle.statistics_of_background_and_labelled_pixels(image, cleanned)\n",
    "df = pd.DataFrame(props)\n",
    "df.head(10)\n"
   ]
  },
  {
   "cell_type": "markdown",
   "id": "e94dd356",
   "metadata": {},
   "source": [
    "## List of operations available in pyclesperanto"
   ]
  },
  {
   "cell_type": "code",
   "execution_count": null,
   "id": "653f2061",
   "metadata": {},
   "outputs": [],
   "source": [
    "def list_operations(search_term = None):\n",
    "    ops = cle.operations(search_term)\n",
    "    for name in ops:\n",
    "        op = ops[name]\n",
    "        func = cle.operation(name)\n",
    "\n",
    "        if hasattr(func, 'fullargspec'):\n",
    "            print(name + \"(\" + str(func.fullargspec.args).replace('[','').replace(']','').replace('\\'','') + \")\")\n",
    "        else:\n",
    "            print(name)\n",
    "\n",
    "list_operations()"
   ]
  },
  {
   "cell_type": "markdown",
   "id": "9ee00c45",
   "metadata": {},
   "source": [
    "## Demos\n",
    "\n",
    "Several demos notebooks are available in the [demos](https://github.com/clEsperanto/pyclesperanto/tree/main/demos) folder of the github repo!"
   ]
  }
 ],
 "metadata": {
  "kernelspec": {
   "display_name": "pycle",
   "language": "python",
   "name": "python3"
  },
  "language_info": {
   "codemirror_mode": {
    "name": "ipython",
    "version": 3
   },
   "file_extension": ".py",
   "mimetype": "text/x-python",
   "name": "python",
   "nbconvert_exporter": "python",
   "pygments_lexer": "ipython3",
   "version": "3.11.10"
  }
 },
 "nbformat": 4,
 "nbformat_minor": 5
}
