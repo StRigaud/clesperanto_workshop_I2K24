{
 "cells": [
  {
   "cell_type": "markdown",
   "id": "559ea9c9-70ef-403e-90dd-2f815d3c62af",
   "metadata": {},
   "source": [
    "# Multi-GPU demo\n",
    "pyclesperanto allows processing images on multiple GPUs in parallel. Therefore, you need to create multiple clesperanto/GPU handles, such as `cle1`, `cle2`, ..."
   ]
  },
  {
   "cell_type": "code",
   "execution_count": 1,
   "id": "65ec3020-97ba-4b64-a2eb-ef9ca064d6cd",
   "metadata": {},
   "outputs": [],
   "source": [
    "from skimage.io import imread\n",
    "import pyclesperanto as cle\n",
    "import time\n",
    "import numpy as np"
   ]
  },
  {
   "cell_type": "code",
   "execution_count": null,
   "id": "a44e82a1",
   "metadata": {},
   "outputs": [],
   "source": [
    "cle.list_available_devices()"
   ]
  },
  {
   "cell_type": "code",
   "execution_count": null,
   "id": "f6356aba-b309-4cb3-a011-e1a4c36e38db",
   "metadata": {},
   "outputs": [],
   "source": [
    "cle.info()"
   ]
  },
  {
   "cell_type": "code",
   "execution_count": 7,
   "id": "1ab1addd",
   "metadata": {},
   "outputs": [],
   "source": [
    "d1 = cle.select_device(0)\n",
    "d2 = cle.select_device(1)"
   ]
  },
  {
   "cell_type": "code",
   "execution_count": null,
   "id": "bfa7a1b3-7b9b-4617-a6aa-a00957baebdd",
   "metadata": {},
   "outputs": [],
   "source": [
    "print(d1.info)\n",
    "print(d2.info)"
   ]
  },
  {
   "cell_type": "markdown",
   "id": "4efd7f14-41a7-422e-a51c-7e4eb331cda4",
   "metadata": {},
   "source": [
    "## Using multiple GPUs sequentially\n",
    "As you can see above, these two handles represent different GPUs, from NVidia and AMD. You can use these two handles by calling operations on them as usual for just showing images ..."
   ]
  },
  {
   "cell_type": "code",
   "execution_count": null,
   "id": "7206928d-60bf-4c63-b49f-893f55d69f47",
   "metadata": {},
   "outputs": [],
   "source": [
    "image = imread(\"https://samples.fiji.sc/blobs.png\").squeeze()\n",
    "\n",
    "cle.imshow(image)"
   ]
  },
  {
   "cell_type": "markdown",
   "id": "57009b1e-28f5-4101-b889-f0ad324c3c22",
   "metadata": {},
   "source": [
    "... and for executing operations on the respective GPU."
   ]
  },
  {
   "cell_type": "code",
   "execution_count": 10,
   "id": "4aea5b41",
   "metadata": {},
   "outputs": [],
   "source": [
    "image1 = cle.push(image, device=d1)\n",
    "image2 = cle.push(image, device=d2)"
   ]
  },
  {
   "cell_type": "code",
   "execution_count": 11,
   "id": "3095d460-f49c-4f58-a62c-1bda9b7e420d",
   "metadata": {},
   "outputs": [],
   "source": [
    "blurred1 = cle.gaussian_blur(image1, sigma_x=10)\n",
    "blurred2 = cle.gaussian_blur(image2, sigma_y=5)"
   ]
  },
  {
   "cell_type": "code",
   "execution_count": null,
   "id": "0c11dc29-3823-4bcf-a050-2ddadd55b72e",
   "metadata": {},
   "outputs": [],
   "source": [
    "blurred1"
   ]
  },
  {
   "cell_type": "code",
   "execution_count": null,
   "id": "88ce83b6-9e13-4ef0-969f-4e1a12fa9c5b",
   "metadata": {},
   "outputs": [],
   "source": [
    "blurred2"
   ]
  },
  {
   "cell_type": "markdown",
   "id": "163b07d7-0500-4b11-8761-da9630b6dae4",
   "metadata": {},
   "source": [
    "Just for visualization purposes, we again print put the name of the GPU device that is used under the hood."
   ]
  },
  {
   "cell_type": "markdown",
   "id": "7776e550-1203-460f-b40d-c73993e0292d",
   "metadata": {},
   "source": [
    "For demonstration purposes, we will execute a Gaussian blur with a wide radius on a large image. We will see that this operation takes some time on the individual GPUs."
   ]
  },
  {
   "cell_type": "code",
   "execution_count": 14,
   "id": "44519834-ddb6-48e4-9105-6863ba424c44",
   "metadata": {},
   "outputs": [],
   "source": [
    "# create a 100 MB test image\n",
    "test_image = np.random.random((10, 1000, 1000)).astype(float)\n",
    "\n",
    "# push the image to memory of both GPUs.\n",
    "image1 = cle.push(test_image, device=d1)\n",
    "image2 = cle.push(test_image, device=d2)\n",
    "\n",
    "# we wait here for a second to make sure the images arrived\n",
    "time.sleep(1)"
   ]
  },
  {
   "cell_type": "code",
   "execution_count": null,
   "id": "e183da06-14b7-46e7-84e5-6be7682024af",
   "metadata": {},
   "outputs": [],
   "source": [
    "image1.shape, image2.shape"
   ]
  },
  {
   "cell_type": "markdown",
   "id": "bf975e39-5a2a-44d6-a970-cb435344dcc7",
   "metadata": {},
   "source": [
    "We now execute the Gaussian blur on both GPUs sequentially a couple of times and measure the time it takes."
   ]
  },
  {
   "cell_type": "code",
   "execution_count": null,
   "id": "7d86501e-4a63-4916-a7c9-4a6325e6e3af",
   "metadata": {},
   "outputs": [],
   "source": [
    "for i in range(0, 5):\n",
    "    print(\"-------------\")\n",
    "    start_time = time.time()\n",
    "    \n",
    "    # process image on first GPU\n",
    "    blurred1 = cle.gaussian_blur(image1, sigma_x=20 + i, sigma_y=20 + i)\n",
    "    # retrieve result from first GPU\n",
    "    result1 = cle.pull(blurred1)\n",
    "    print(\"Processing and pulling on\", d1.name, \"took\", time.time() - start_time)\n",
    "    \n",
    "    start_time = time.time()\n",
    "    # process image on second GPU\n",
    "    blurred2 = cle.gaussian_blur(image2, sigma_x=20 + i, sigma_y=20 + i)\n",
    "    # retrieve result from second GPU\n",
    "    result2 = cle.pull(blurred2)\n",
    "    print(\"Processing and pulling on\", d2.name, \"took\", time.time() - start_time)\n",
    "    \n",
    "    "
   ]
  },
  {
   "cell_type": "markdown",
   "id": "a6b3c41a-086c-4f43-a966-ba39b397d802",
   "metadata": {},
   "source": [
    "You can clearly see that the one device is a bit slower than the other. We now repeat that experiment with a different call-order. If processing is done in parallel in the background, we will see that the processing time of each for-loop iteration is less than in the example above. "
   ]
  },
  {
   "cell_type": "code",
   "execution_count": null,
   "id": "da9767be-422f-4133-8ac2-c333cd04a01b",
   "metadata": {},
   "outputs": [],
   "source": [
    "for i in range(0, 5):\n",
    "    print(\"-------------\")\n",
    "    start_time = time.time()\n",
    "    \n",
    "    # process image on both GPUs\n",
    "    blurred1 = cle.gaussian_blur(image1, sigma_x=20 + i, sigma_y=20 + i)\n",
    "    blurred2 = cle.gaussian_blur(image2, sigma_x=20 + i, sigma_y=20 + i)\n",
    "\n",
    "    # retrieve result from both GPUs\n",
    "    result1 = cle.pull(blurred1)\n",
    "    result2 = cle.pull(blurred2)\n",
    "    print(\"Processing and pulling on\", d1.name, \"and\", d2.name, \"in parallel took\", time.time() - start_time)"
   ]
  },
  {
   "cell_type": "markdown",
   "id": "e82215fe-6473-4321-9594-d72963deb08a",
   "metadata": {},
   "source": [
    "we can now run different kernels on different devices at the same time. \n",
    "  \n",
    "Enjoy!"
   ]
  },
  {
   "cell_type": "code",
   "execution_count": null,
   "id": "33b6481f-e103-4b53-90ed-a1ec3118e7c6",
   "metadata": {},
   "outputs": [],
   "source": []
  }
 ],
 "metadata": {
  "kernelspec": {
   "display_name": "Python 3 (ipykernel)",
   "language": "python",
   "name": "python3"
  },
  "language_info": {
   "codemirror_mode": {
    "name": "ipython",
    "version": 3
   },
   "file_extension": ".py",
   "mimetype": "text/x-python",
   "name": "python",
   "nbconvert_exporter": "python",
   "pygments_lexer": "ipython3",
   "version": "3.12.4"
  }
 },
 "nbformat": 4,
 "nbformat_minor": 5
}
