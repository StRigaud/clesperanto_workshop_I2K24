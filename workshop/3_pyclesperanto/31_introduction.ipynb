{
 "cells": [
  {
   "cell_type": "code",
   "execution_count": 1,
   "id": "69c32066",
   "metadata": {},
   "outputs": [],
   "source": [
    "import pyclesperanto as cle\n",
    "import numpy as np\n",
    "from skimage.io import imread, imshow"
   ]
  },
  {
   "cell_type": "markdown",
   "id": "fa467b9c",
   "metadata": {
    "tags": []
   },
   "source": [
    "# Explore the devices on your machine\n",
    "\n",
    "pyclesperanto relies on sending computing instructions to compute devices. Here, devices are Computational Units (CUs) compatible with `OpenCL`. This can be GPUs and CPUs although we would prefer to use GPUs for their speed capacities.\n",
    "\n",
    "Before starting to use pyclesperanto, it is important to know which devices are available on your system and which one you want to use based on their performances."
   ]
  },
  {
   "cell_type": "markdown",
   "id": "52f3036a-a773-46df-987f-7a68c2a9cac2",
   "metadata": {},
   "source": [
    "### Exercice 1: List devices and select a device\n",
    "\n",
    "Using the method `info` from the `pyclesperanto` package, list the available devices and their specificities on your machine and have a look at their specs"
   ]
  },
  {
   "cell_type": "code",
   "execution_count": 2,
   "id": "dc4eaf76-f528-4256-a611-02ea3053bb73",
   "metadata": {},
   "outputs": [],
   "source": [
    "# TODO"
   ]
  },
  {
   "cell_type": "markdown",
   "id": "274a322e",
   "metadata": {},
   "source": [
    "### Exercice 2: Which device to choose?\n",
    "\n",
    "For the lucky of you who have access to multiple devices, you might wonder which one to choose. Here are some hints:\n",
    "- Prefer GPU with more memory over GPU with less memory (*`Global Memory Size`*, *`Maximum Object Size`*)\n",
    "- Prefer GPU with more or faster compute units (*`Compute Units`*, *`Max Clock Frequency`*)\n",
    "\n",
    "Use `select_device` to select the device the most adapted, you can use its index or a sub-string to identify it."
   ]
  },
  {
   "cell_type": "code",
   "execution_count": 3,
   "id": "0c0d5c20",
   "metadata": {},
   "outputs": [],
   "source": [
    "# TODO"
   ]
  },
  {
   "cell_type": "markdown",
   "id": "f2d13202",
   "metadata": {},
   "source": [
    "# Memory management\n",
    "\n",
    "pyclesperanto is an image processing library. This means that it will apply operations some data (e.g. `numpy.array`). However, data are stored in the main memory for CPU processing, they are not directly accessible by the GPU which has a different memory. If we want to apply GPU-accelerate operation on it, we need to copy the data into the GPUs memory.\n",
    "\n",
    "For this, the library provides interfaces with the `numpy` ecosystem and its own array class `pyclesperanto._pyclesperanto._Array`:\n",
    "- `create` : a memory space on the device\n",
    "- `push` : CPU to GPU data transfert\n",
    "- `pull` : GPU to CPU data transfert"
   ]
  },
  {
   "cell_type": "code",
   "execution_count": 4,
   "id": "6bf8df9a",
   "metadata": {},
   "outputs": [],
   "source": [
    "array = np.ones((3, 7, 10))"
   ]
  },
  {
   "cell_type": "markdown",
   "id": "400118a3",
   "metadata": {},
   "source": [
    "### Push \n",
    "\n",
    "The `cle.push()` allows you to push memory from you CPU to your GPU. If you try to process an array or image which is not pushed, the library will push it automatically. The returned object will be your data in the GPU, ready to be processed"
   ]
  },
  {
   "cell_type": "code",
   "execution_count": null,
   "id": "89615bf0",
   "metadata": {},
   "outputs": [],
   "source": [
    "gpu_image = cle.push(array)\n",
    "print(type(gpu_image), gpu_image.shape, gpu_image.dtype)"
   ]
  },
  {
   "cell_type": "markdown",
   "id": "ffe0c7fc",
   "metadata": {},
   "source": [
    "### Pull \n",
    "\n",
    "`cle.pull()` is the reverse of push, we transfert back the data from the GPU to the CPU memory. This is also a mandatory step at the end of your processing pipeline or if you want to look at your data."
   ]
  },
  {
   "cell_type": "code",
   "execution_count": null,
   "id": "76ae38b1",
   "metadata": {},
   "outputs": [],
   "source": [
    "cpu_image = cle.pull(gpu_image)\n",
    "print(type(cpu_image), cpu_image.shape, cpu_image.dtype)"
   ]
  },
  {
   "cell_type": "markdown",
   "id": "28e62b75",
   "metadata": {},
   "source": [
    "### Create \n",
    "\n",
    "Finally `cle.create()` allow you to alocate memory directly on you GPU.  The create memory is empty and need to be filled. This is used when you need to specify aspect of the output data you are expecting, like specific data type or shape."
   ]
  },
  {
   "cell_type": "code",
   "execution_count": null,
   "id": "5907d366",
   "metadata": {},
   "outputs": [],
   "source": [
    "empty_gpu_memory = cle.create(array.shape)\n",
    "print(type(empty_gpu_memory), empty_gpu_memory.shape, empty_gpu_memory.dtype)"
   ]
  },
  {
   "cell_type": "markdown",
   "id": "d0b09ab5",
   "metadata": {},
   "source": [
    "# Processing GPU images\n",
    "\n",
    "All operations follows the same pattern:\n",
    "- cle.**operation_name**(_input_, _output_, _parameters_)\n",
    "\n",
    "where:\n",
    "- 'cle' is the librairy handle\n",
    "- 'operation_name' is the name of the operation you want to apply\n",
    "- 'input' is the input data\n",
    "- 'output' is the output data (Optional)\n",
    "- 'parameters' are the parameters of the operation (Optional if using default values)\n",
    "\n",
    "You can access a full documentation on how to use an operation by running `cle.operation_name?`"
   ]
  },
  {
   "cell_type": "code",
   "execution_count": null,
   "id": "86012528",
   "metadata": {},
   "outputs": [],
   "source": [
    "cle.gaussian_blur?"
   ]
  },
  {
   "cell_type": "markdown",
   "id": "f160e3ab",
   "metadata": {},
   "source": [
    "## Exercise : process an image\n",
    "\n",
    "Let's `push` our favorite blob image into memory, apply any operation (gaussian blur?) and pull the result back for display"
   ]
  },
  {
   "cell_type": "code",
   "execution_count": 9,
   "id": "36b102c0",
   "metadata": {},
   "outputs": [],
   "source": [
    "# `imread` and `imshow` functions from scikit-image have been imported above, you can use them to load and display images\n",
    "# (alternatively) you can use the `cle.imshow()` to directly display a GPU image (it will still do a pull operation in the background)\n",
    "image = imread(\"../../data/blobs.tif\")\n",
    "\n",
    "#TODO\n"
   ]
  },
  {
   "cell_type": "markdown",
   "id": "bf3a88b2",
   "metadata": {},
   "source": []
  }
 ],
 "metadata": {
  "kernelspec": {
   "display_name": "Python 3 (ipykernel)",
   "language": "python",
   "name": "python3"
  },
  "language_info": {
   "codemirror_mode": {
    "name": "ipython",
    "version": 3
   },
   "file_extension": ".py",
   "mimetype": "text/x-python",
   "name": "python",
   "nbconvert_exporter": "python",
   "pygments_lexer": "ipython3",
   "version": "3.11.10"
  }
 },
 "nbformat": 4,
 "nbformat_minor": 5
}
