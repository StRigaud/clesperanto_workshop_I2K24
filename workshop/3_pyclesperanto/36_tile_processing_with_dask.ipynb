{
 "cells": [
  {
   "cell_type": "markdown",
   "id": "c3f7c66f",
   "metadata": {},
   "source": []
  },
  {
   "cell_type": "markdown",
   "id": "40953bd5-2b0b-4285-a2ba-d5df299f0723",
   "metadata": {},
   "source": [
    "# Tiles processing: Counting nulcei example\n",
    "\n",
    "In this notebook we will process a big dataset that has been saved in `zarr` format to count cells in individual tiles. For every tile, we will write a pixel in an output image. Hence, we are producing a cell-count image that is smaller than the original image by a factor that corresponds to the tile size."
   ]
  },
  {
   "cell_type": "code",
   "execution_count": 1,
   "id": "5c3e624b-58c5-419f-9eb6-73b859f006d4",
   "metadata": {},
   "outputs": [],
   "source": [
    "import skimage\n",
    "import zarr\n",
    "\n",
    "import pyclesperanto as cle\n",
    "import numpy as np\n",
    "import dask.array as da\n",
    "\n",
    "from skimage import io, filters, measure, morphology\n",
    "from numcodecs import Blosc"
   ]
  },
  {
   "cell_type": "markdown",
   "id": "b536318e-90c9-4a3c-b40b-f4aa1bdab233",
   "metadata": {},
   "source": [
    "For demonstration purposes, we use a dataset that is provided by Theresa Suckert, OncoRay, University Hospital Carl Gustav Carus, TU Dresden. The dataset is licensed License: CC-BY 4.0. We are using a cropped version here that was resaved a 8-bit image to be able to provide it with the notebook. You find the full size 16-bit image in CZI file format online."
   ]
  },
  {
   "cell_type": "code",
   "execution_count": 2,
   "id": "c1c3e5dd-0a84-477c-a391-8b0ab87b4a75",
   "metadata": {},
   "outputs": [],
   "source": [
    "image = io.imread(\"https://github.com/haesleinhuepf/BioImageAnalysisNotebooks/raw/refs/heads/main/data/P1_H_C3H_M004_17-cropped.tif\")[1]\n",
    "\n",
    "# for testing purposes, we crop the image even more.\n",
    "# comment out the following line to run on the whole 5000x2000 pixels\n",
    "image = image[1000:1500, 1000:1500]\n",
    "\n",
    "#compress AND change the numpy array into a zarr array\n",
    "compressor = Blosc(cname='zstd', clevel=3, shuffle=Blosc.BITSHUFFLE)\n",
    "\n",
    "# Convert image into zarr array\n",
    "chunk_size = (100, 100)\n",
    "zarray = zarr.array(image, chunks=chunk_size, compressor=compressor)\n",
    "\n",
    "# save zarr to disk\n",
    "zarr_filename = '../../data/P1_H_C3H_M004_17-cropped.zarr'\n",
    "zarr.convenience.save(zarr_filename, zarray)"
   ]
  },
  {
   "cell_type": "markdown",
   "id": "b82454a9-3226-4e84-b629-cc93d01ecd80",
   "metadata": {},
   "source": [
    "## Loading the zarr-backed image\n",
    "Dask brings built-in support for the zarr file format. We can create dask arrays directly from a zarr file."
   ]
  },
  {
   "cell_type": "code",
   "execution_count": 3,
   "id": "fd415d56-c478-4265-81f3-5b3340754602",
   "metadata": {},
   "outputs": [
    {
     "name": "stderr",
     "output_type": "stream",
     "text": [
      "/home/strigaud/Libraries/miniforge3/envs/proto/lib/python3.12/site-packages/zarr/creation.py:614: UserWarning: ignoring keyword argument 'read_only'\n",
      "  compressor, fill_value = _kwargs_compat(compressor, fill_value, kwargs)\n"
     ]
    },
    {
     "data": {
      "text/html": [
       "<table>\n",
       "    <tr>\n",
       "        <td>\n",
       "            <table style=\"border-collapse: collapse;\">\n",
       "                <thead>\n",
       "                    <tr>\n",
       "                        <td> </td>\n",
       "                        <th> Array </th>\n",
       "                        <th> Chunk </th>\n",
       "                    </tr>\n",
       "                </thead>\n",
       "                <tbody>\n",
       "                    \n",
       "                    <tr>\n",
       "                        <th> Bytes </th>\n",
       "                        <td> 244.14 kiB </td>\n",
       "                        <td> 9.77 kiB </td>\n",
       "                    </tr>\n",
       "                    \n",
       "                    <tr>\n",
       "                        <th> Shape </th>\n",
       "                        <td> (500, 500) </td>\n",
       "                        <td> (100, 100) </td>\n",
       "                    </tr>\n",
       "                    <tr>\n",
       "                        <th> Dask graph </th>\n",
       "                        <td colspan=\"2\"> 25 chunks in 2 graph layers </td>\n",
       "                    </tr>\n",
       "                    <tr>\n",
       "                        <th> Data type </th>\n",
       "                        <td colspan=\"2\"> uint8 numpy.ndarray </td>\n",
       "                    </tr>\n",
       "                </tbody>\n",
       "            </table>\n",
       "        </td>\n",
       "        <td>\n",
       "        <svg width=\"170\" height=\"170\" style=\"stroke:rgb(0,0,0);stroke-width:1\" >\n",
       "\n",
       "  <!-- Horizontal lines -->\n",
       "  <line x1=\"0\" y1=\"0\" x2=\"120\" y2=\"0\" style=\"stroke-width:2\" />\n",
       "  <line x1=\"0\" y1=\"24\" x2=\"120\" y2=\"24\" />\n",
       "  <line x1=\"0\" y1=\"48\" x2=\"120\" y2=\"48\" />\n",
       "  <line x1=\"0\" y1=\"72\" x2=\"120\" y2=\"72\" />\n",
       "  <line x1=\"0\" y1=\"96\" x2=\"120\" y2=\"96\" />\n",
       "  <line x1=\"0\" y1=\"120\" x2=\"120\" y2=\"120\" style=\"stroke-width:2\" />\n",
       "\n",
       "  <!-- Vertical lines -->\n",
       "  <line x1=\"0\" y1=\"0\" x2=\"0\" y2=\"120\" style=\"stroke-width:2\" />\n",
       "  <line x1=\"24\" y1=\"0\" x2=\"24\" y2=\"120\" />\n",
       "  <line x1=\"48\" y1=\"0\" x2=\"48\" y2=\"120\" />\n",
       "  <line x1=\"72\" y1=\"0\" x2=\"72\" y2=\"120\" />\n",
       "  <line x1=\"96\" y1=\"0\" x2=\"96\" y2=\"120\" />\n",
       "  <line x1=\"120\" y1=\"0\" x2=\"120\" y2=\"120\" style=\"stroke-width:2\" />\n",
       "\n",
       "  <!-- Colored Rectangle -->\n",
       "  <polygon points=\"0.0,0.0 120.0,0.0 120.0,120.0 0.0,120.0\" style=\"fill:#ECB172A0;stroke-width:0\"/>\n",
       "\n",
       "  <!-- Text -->\n",
       "  <text x=\"60.000000\" y=\"140.000000\" font-size=\"1.0rem\" font-weight=\"100\" text-anchor=\"middle\" >500</text>\n",
       "  <text x=\"140.000000\" y=\"60.000000\" font-size=\"1.0rem\" font-weight=\"100\" text-anchor=\"middle\" transform=\"rotate(-90,140.000000,60.000000)\">500</text>\n",
       "</svg>\n",
       "        </td>\n",
       "    </tr>\n",
       "</table>"
      ],
      "text/plain": [
       "dask.array<from-zarr, shape=(500, 500), dtype=uint8, chunksize=(100, 100), chunktype=numpy.ndarray>"
      ]
     },
     "execution_count": 3,
     "metadata": {},
     "output_type": "execute_result"
    }
   ],
   "source": [
    "zarr_image = da.from_zarr(zarr_filename)\n",
    "zarr_image"
   ]
  },
  {
   "cell_type": "markdown",
   "id": "7bb814f2-09cc-4798-b228-3709cf56d840",
   "metadata": {},
   "source": [
    "We can apply image processing to this tiled dataset directly.\n",
    "\n",
    "## Counting nuclei\n",
    "\n",
    "For counting the nuclei, we setup a simple image processing workflow that applies Voronoi-Otsu-Labeling to the dataset. Afterwards, we count the segmented objects. As nuclei might be counted twice which touch the tile border, we have to correct the count for every tile. Technically, we could remove the objects which touch one of the vertical or horizontal tile borders. However, there is a simpler way for correcting for this error: We count the number of nuclei after segmentation. Then, we remove all nuclei which touch any image border and count the remaining nuclei again. We can then assume that half of the removed nuclei should be counted. Hence, we add the two counts, before and after edge-removal, and compute the average of these two measurements. Especially on large tiles with many nuclei, the remaining error should be negligible. \n",
    "\n",
    "> __WARNING:__ It is not recommended to apply such an estimating cell counting method when each tile contains only few nuclei."
   ]
  },
  {
   "cell_type": "code",
   "execution_count": 4,
   "id": "1d7de2dc-817f-4940-aabc-22dea53f166e",
   "metadata": {},
   "outputs": [],
   "source": [
    "def count_nuclei(image):\n",
    "    \"\"\"\n",
    "    Label objects in a binary image and produce a pixel-count-map image.\n",
    "    \"\"\"\n",
    "    print(\"Processing image of size\", image.shape)\n",
    "    \n",
    "    # Count nuclei including those which touch the image border\n",
    "    labels = cle.voronoi_otsu_labeling(image, spot_sigma=3.5)\n",
    "    nuclei_count = labels.max()\n",
    "    \n",
    "    # Count nuclei excluding those which touch the image border\n",
    "    labels_without_borders = cle.exclude_labels_on_edges(labels)\n",
    "    nuclei_count_excluding_borders = labels_without_borders.max()\n",
    "    \n",
    "    # Both nuclei-count including and excluding nuclei at image borders \n",
    "    # are no good approximation. We should exclude the nuclei only on \n",
    "    # half of the borders to get a good estimate.\n",
    "    # Alternatively, we just take the average of both counts.\n",
    "    result = np.asarray([[(nuclei_count + nuclei_count_excluding_borders) / 2]])\n",
    "    \n",
    "    print(result.shape)\n",
    "    \n",
    "    return result"
   ]
  },
  {
   "cell_type": "markdown",
   "id": "37f49c7c-5ad4-4c56-ba14-a184a7e276f6",
   "metadata": {},
   "source": [
    "[Issues](https://github.com/clEsperanto/pyclesperanto_prototype/issues/163) can happen because of asynchronous processing of the GPU, deactivating it is an option if you are facing them."
   ]
  },
  {
   "cell_type": "code",
   "execution_count": 5,
   "id": "d928a2a4-bbf1-4662-bcf5-eb3b03ecc331",
   "metadata": {},
   "outputs": [],
   "source": [
    "cle.wait_for_kernel_to_finish(True)"
   ]
  },
  {
   "cell_type": "markdown",
   "id": "1d4f1fc9-c3aa-45bf-b1e0-f61621ce74af",
   "metadata": {},
   "source": [
    "This time, we do not use tile overlap, because we are not measuring properties of the nuclei and thus, don’t need a prefect segmentation of them."
   ]
  },
  {
   "cell_type": "code",
   "execution_count": 6,
   "id": "2c6a07b5-b038-421e-97f3-bf480f634d88",
   "metadata": {},
   "outputs": [
    {
     "name": "stdout",
     "output_type": "stream",
     "text": [
      "Processing image of size (0, 0)\n",
      "Processing image of size (1, 1)\n",
      "(1, 1)\n",
      "Processing image of size (0, 0)\n"
     ]
    },
    {
     "name": "stderr",
     "output_type": "stream",
     "text": [
      "Deprecated: this function is deprecated, use detect_maxima instead\n",
      "Deprecated: Please use mean() instead\n"
     ]
    },
    {
     "data": {
      "text/html": [
       "<table>\n",
       "    <tr>\n",
       "        <td>\n",
       "            <table style=\"border-collapse: collapse;\">\n",
       "                <thead>\n",
       "                    <tr>\n",
       "                        <td> </td>\n",
       "                        <th> Array </th>\n",
       "                        <th> Chunk </th>\n",
       "                    </tr>\n",
       "                </thead>\n",
       "                <tbody>\n",
       "                    \n",
       "                    <tr>\n",
       "                        <th> Bytes </th>\n",
       "                        <td> 1.91 MiB </td>\n",
       "                        <td> 78.12 kiB </td>\n",
       "                    </tr>\n",
       "                    \n",
       "                    <tr>\n",
       "                        <th> Shape </th>\n",
       "                        <td> (500, 500) </td>\n",
       "                        <td> (100, 100) </td>\n",
       "                    </tr>\n",
       "                    <tr>\n",
       "                        <th> Dask graph </th>\n",
       "                        <td colspan=\"2\"> 25 chunks in 3 graph layers </td>\n",
       "                    </tr>\n",
       "                    <tr>\n",
       "                        <th> Data type </th>\n",
       "                        <td colspan=\"2\"> float64 numpy.ndarray </td>\n",
       "                    </tr>\n",
       "                </tbody>\n",
       "            </table>\n",
       "        </td>\n",
       "        <td>\n",
       "        <svg width=\"170\" height=\"170\" style=\"stroke:rgb(0,0,0);stroke-width:1\" >\n",
       "\n",
       "  <!-- Horizontal lines -->\n",
       "  <line x1=\"0\" y1=\"0\" x2=\"120\" y2=\"0\" style=\"stroke-width:2\" />\n",
       "  <line x1=\"0\" y1=\"24\" x2=\"120\" y2=\"24\" />\n",
       "  <line x1=\"0\" y1=\"48\" x2=\"120\" y2=\"48\" />\n",
       "  <line x1=\"0\" y1=\"72\" x2=\"120\" y2=\"72\" />\n",
       "  <line x1=\"0\" y1=\"96\" x2=\"120\" y2=\"96\" />\n",
       "  <line x1=\"0\" y1=\"120\" x2=\"120\" y2=\"120\" style=\"stroke-width:2\" />\n",
       "\n",
       "  <!-- Vertical lines -->\n",
       "  <line x1=\"0\" y1=\"0\" x2=\"0\" y2=\"120\" style=\"stroke-width:2\" />\n",
       "  <line x1=\"24\" y1=\"0\" x2=\"24\" y2=\"120\" />\n",
       "  <line x1=\"48\" y1=\"0\" x2=\"48\" y2=\"120\" />\n",
       "  <line x1=\"72\" y1=\"0\" x2=\"72\" y2=\"120\" />\n",
       "  <line x1=\"96\" y1=\"0\" x2=\"96\" y2=\"120\" />\n",
       "  <line x1=\"120\" y1=\"0\" x2=\"120\" y2=\"120\" style=\"stroke-width:2\" />\n",
       "\n",
       "  <!-- Colored Rectangle -->\n",
       "  <polygon points=\"0.0,0.0 120.0,0.0 120.0,120.0 0.0,120.0\" style=\"fill:#ECB172A0;stroke-width:0\"/>\n",
       "\n",
       "  <!-- Text -->\n",
       "  <text x=\"60.000000\" y=\"140.000000\" font-size=\"1.0rem\" font-weight=\"100\" text-anchor=\"middle\" >500</text>\n",
       "  <text x=\"140.000000\" y=\"60.000000\" font-size=\"1.0rem\" font-weight=\"100\" text-anchor=\"middle\" transform=\"rotate(-90,140.000000,60.000000)\">500</text>\n",
       "</svg>\n",
       "        </td>\n",
       "    </tr>\n",
       "</table>"
      ],
      "text/plain": [
       "dask.array<count_nuclei, shape=(500, 500), dtype=float64, chunksize=(100, 100), chunktype=numpy.ndarray>"
      ]
     },
     "execution_count": 6,
     "metadata": {},
     "output_type": "execute_result"
    }
   ],
   "source": [
    "tile_map = da.map_blocks(count_nuclei, zarr_image)\n",
    "tile_map"
   ]
  },
  {
   "cell_type": "markdown",
   "id": "a4e707ab-919b-44b4-8a4a-2ee088445a1f",
   "metadata": {},
   "source": [
    "As the result image is much smaller then the original, we can compute the whole result map."
   ]
  },
  {
   "cell_type": "code",
   "execution_count": 7,
   "id": "74e22b0c-5b64-41f4-b395-18d245f7d8b6",
   "metadata": {},
   "outputs": [
    {
     "name": "stderr",
     "output_type": "stream",
     "text": [
      "Deprecated: this function is deprecated, use detect_maxima instead\n",
      "Deprecated: Please use mean() instead\n",
      "Deprecated: this function is deprecated, use detect_maxima instead\n",
      "Deprecated: Please use mean() instead\n",
      "Deprecated: this function is deprecated, use detect_maxima instead\n",
      "Deprecated: Please use mean() instead\n",
      "Deprecated: this function is deprecated, use detect_maxima instead\n",
      "Deprecated: Please use mean() instead\n",
      "Deprecated: this function is deprecated, use detect_maxima instead\n",
      "Deprecated: Please use mean() instead\n"
     ]
    },
    {
     "name": "stdout",
     "output_type": "stream",
     "text": [
      "Processing image of size (100, 100)\n",
      "(1, 1)\n",
      "Processing image of size (100, 100)\n",
      "(1, 1)\n",
      "Processing image of size (100, 100)\n",
      "Processing image of size (100, 100)\n",
      "(1, 1)\n",
      "(1, 1)\n",
      "Processing image of size (100, 100)\n",
      "(1, 1)\n",
      "Processing image of size (100, 100)\n",
      "(1, 1)\n",
      "Processing image of size (100, 100)\n",
      "Processing image of size (100, 100)\n",
      "Processing image of size (100, 100)\n",
      "(1, 1)\n",
      "Processing image of size (100, 100)\n",
      "(1, 1)\n",
      "(1, 1)\n",
      "(1, 1)\n",
      "Processing image of size (100, 100)\n",
      "Processing image of size (100, 100)\n",
      "(1, 1)\n",
      "Processing image of size (100, 100)\n",
      "Processing image of size (100, 100)\n",
      "Processing image of size (100, 100)\n",
      "(1, 1)\n",
      "(1, 1)\n",
      "(1, 1)\n"
     ]
    },
    {
     "name": "stderr",
     "output_type": "stream",
     "text": [
      "Deprecated: this function is deprecated, use detect_maxima instead\n",
      "Deprecated: Please use mean() instead\n",
      "Deprecated: this function is deprecated, use detect_maxima instead\n",
      "Deprecated: Please use mean() instead\n",
      "Deprecated: this function is deprecated, use detect_maxima instead\n",
      "Deprecated: Please use mean() instead\n",
      "Deprecated: this function is deprecated, use detect_maxima instead\n",
      "Deprecated: Please use mean() instead\n",
      "Deprecated: this function is deprecated, use detect_maxima instead\n",
      "Deprecated: Please use mean() instead\n",
      "Deprecated: this function is deprecated, use detect_maxima instead\n",
      "Deprecated: Please use mean() instead\n",
      "Deprecated: this function is deprecated, use detect_maxima instead\n",
      "Deprecated: Please use mean() instead\n",
      "Deprecated: this function is deprecated, use detect_maxima instead\n",
      "Deprecated: Please use mean() instead\n",
      "Deprecated: this function is deprecated, use detect_maxima instead\n",
      "Deprecated: Please use mean() instead\n",
      "Deprecated: this function is deprecated, use detect_maxima instead\n",
      "Deprecated: Please use mean() instead\n"
     ]
    },
    {
     "name": "stdout",
     "output_type": "stream",
     "text": [
      "(1, 1)\n",
      "Processing image of size (100, 100)\n",
      "Processing image of size (100, 100)\n",
      "(1, 1)\n",
      "Processing image of size (100, 100)\n",
      "(1, 1)\n",
      "(1, 1)\n",
      "Processing image of size (100, 100)\n",
      "Processing image of size (100, 100)\n",
      "(1, 1)\n",
      "(1, 1)\n",
      "Processing image of size (100, 100)\n",
      "(1, 1)\n",
      "Processing image of size (100, 100)\n"
     ]
    },
    {
     "name": "stderr",
     "output_type": "stream",
     "text": [
      "Deprecated: this function is deprecated, use detect_maxima instead\n",
      "Deprecated: Please use mean() instead\n",
      "Deprecated: this function is deprecated, use detect_maxima instead\n",
      "Deprecated: Please use mean() instead\n",
      "Deprecated: this function is deprecated, use detect_maxima instead\n",
      "Deprecated: Please use mean() instead\n",
      "Deprecated: this function is deprecated, use detect_maxima instead\n",
      "Deprecated: Please use mean() instead\n",
      "Deprecated: this function is deprecated, use detect_maxima instead\n",
      "Deprecated: Please use mean() instead\n",
      "Deprecated: this function is deprecated, use detect_maxima instead\n",
      "Deprecated: Please use mean() instead\n",
      "Deprecated: this function is deprecated, use detect_maxima instead\n",
      "Deprecated: Please use mean() instead\n",
      "Deprecated: this function is deprecated, use detect_maxima instead\n",
      "Deprecated: Please use mean() instead\n"
     ]
    },
    {
     "name": "stdout",
     "output_type": "stream",
     "text": [
      "(1, 1)\n",
      "Processing image of size (100, 100)\n",
      "(1, 1)\n",
      "Processing image of size (100, 100)\n",
      "(1, 1)\n",
      "Processing image of size (100, 100)\n",
      "(1, 1)\n"
     ]
    },
    {
     "name": "stderr",
     "output_type": "stream",
     "text": [
      "Deprecated: this function is deprecated, use detect_maxima instead\n",
      "Deprecated: Please use mean() instead\n",
      "Deprecated: this function is deprecated, use detect_maxima instead\n",
      "Deprecated: Please use mean() instead\n"
     ]
    }
   ],
   "source": [
    "result = tile_map.compute()"
   ]
  },
  {
   "cell_type": "code",
   "execution_count": 8,
   "id": "62e72ed1-8669-41cf-bcc7-5468decad72e",
   "metadata": {},
   "outputs": [
    {
     "data": {
      "text/plain": [
       "(5, 5)"
      ]
     },
     "execution_count": 8,
     "metadata": {},
     "output_type": "execute_result"
    }
   ],
   "source": [
    "result.shape"
   ]
  },
  {
   "cell_type": "markdown",
   "id": "7381652e-bdfa-42e8-b31b-53a7cc1f1476",
   "metadata": {},
   "source": [
    "Again, as the result map is small, we can just visualize it."
   ]
  },
  {
   "cell_type": "code",
   "execution_count": 9,
   "id": "7b855dc7-e39d-4188-b797-5bbaed4f64af",
   "metadata": {},
   "outputs": [
    {
     "data": {
      "image/png": "[encoded data removed]",
      "text/plain": [
       "<Figure size 640x480 with 2 Axes>"
      ]
     },
     "metadata": {},
     "output_type": "display_data"
    }
   ],
   "source": [
    "cle.imshow(result, colorbar=True)"
   ]
  },
  {
   "cell_type": "markdown",
   "id": "795701fc-9563-48aa-b8d9-c76a452329fc",
   "metadata": {},
   "source": [
    "With a quick visual check in the original image, we can see that indeed in the bottom left corner of the image, there are more cells than in the top right."
   ]
  },
  {
   "cell_type": "code",
   "execution_count": 10,
   "id": "4d0bb30b-327b-42b1-b063-71fe4c37d315",
   "metadata": {},
   "outputs": [
    {
     "name": "stderr",
     "output_type": "stream",
     "text": [
      "Deprecated: this function is deprecated, use detect_maxima instead\n",
      "Deprecated: Please use mean() instead\n"
     ]
    },
    {
     "data": {
      "image/png": "[encoded data removed]",
      "text/plain": [
       "<Figure size 640x480 with 1 Axes>"
      ]
     },
     "metadata": {},
     "output_type": "display_data"
    }
   ],
   "source": [
    "cle.imshow(cle.voronoi_otsu_labeling(image, spot_sigma=3.5), labels=True)"
   ]
  },
  {
   "cell_type": "markdown",
   "id": "eb61cd8c-c779-4c3c-a2b3-1419940961f6",
   "metadata": {},
   "source": [
    "### Acknowledgement\n",
    "\n",
    "This notebook is adapted from of the [BioImageAnalysisNotebook](https://haesleinhuepf.github.io/BioImageAnalysisNotebooks) of Robert Haase ([10.5281/zenodo.10465773](https://zenodo.org/badge/latestdoi/449194300))."
   ]
  },
  {
   "cell_type": "code",
   "execution_count": null,
   "id": "7064ad94-5043-4ab2-ba4e-2c651ef6a1b9",
   "metadata": {},
   "outputs": [],
   "source": []
  }
 ],
 "metadata": {
  "kernelspec": {
   "display_name": "Python 3 (ipykernel)",
   "language": "python",
   "name": "python3"
  },
  "language_info": {
   "codemirror_mode": {
    "name": "ipython",
    "version": 3
   },
   "file_extension": ".py",
   "mimetype": "text/x-python",
   "name": "python",
   "nbconvert_exporter": "python",
   "pygments_lexer": "ipython3",
   "version": "3.12.1"
  }
 },
 "nbformat": 4,
 "nbformat_minor": 5
}
