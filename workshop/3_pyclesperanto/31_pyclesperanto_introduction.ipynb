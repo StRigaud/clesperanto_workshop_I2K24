{
 "cells": [
  {
   "cell_type": "code",
   "execution_count": 12,
   "id": "69c32066",
   "metadata": {},
   "outputs": [],
   "source": [
    "import pyclesperanto as cle\n",
    "import numpy as np\n",
    "from skimage.io import imread, imshow"
   ]
  },
  {
   "cell_type": "markdown",
   "id": "fa467b9c",
   "metadata": {},
   "source": [
    "# Explore the devices on your machine\n",
    "\n",
    "pyclesperanto relies on sending computing instructions to compute devices. Here, devices are Computational Units (CUs) compatible with `OpenCL`. This can be GPUs and CPUs although we would prefer to use GPUs for their speed capacities.\n",
    "\n",
    "Before starting to use pyclesperanto, it is important to know which devices are available on your system and which one you want to use based on their performances."
   ]
  },
  {
   "cell_type": "markdown",
   "id": "52f3036a-a773-46df-987f-7a68c2a9cac2",
   "metadata": {},
   "source": [
    "### Exercice 1: List devices and select a device\n",
    "\n",
    "Using the method `info` and `select_device()` from the `pyclesperanto` package, list the available devices and their specificities on your machine and select one."
   ]
  },
  {
   "cell_type": "code",
   "execution_count": 13,
   "id": "dc4eaf76-f528-4256-a611-02ea3053bb73",
   "metadata": {},
   "outputs": [],
   "source": [
    "# TODO"
   ]
  },
  {
   "cell_type": "markdown",
   "id": "a91eb56e",
   "metadata": {},
   "source": [
    "__Tips:__ Devices are defined by a `name` and a `dev_type` (gpu, cpu, all). You can use the `select_device` arguments to precisely select the device you want to use. This can be useful if you have multiple devices of the same type but not the same type (Hello Macbook Pro with M1 and M2 chips !)."
   ]
  },
  {
   "cell_type": "markdown",
   "id": "274a322e",
   "metadata": {},
   "source": [
    "### Exercice 2: Which device to choose?\n",
    "\n",
    "For the lucky of you who have access to multiple devices, you might wonder which one to choose. Here are some hints:\n",
    "- Prefer GPU with more memory over GPU with less memory (*`Global Memory Size`*, *`Maximum Object Size`*)\n",
    "- Prefer GPU with more or faster compute units (*`Compute Units`*, *`Max Clock Frequency`*)\n",
    "\n",
    "Those information can be retrieve using the `info` method to print the __full__ information of all the devices available.\n",
    "\n",
    "Print them and tell us which one, in your opinion, is the most adapted.\n"
   ]
  },
  {
   "cell_type": "code",
   "execution_count": 14,
   "id": "0c0d5c20",
   "metadata": {},
   "outputs": [],
   "source": [
    "# TODO"
   ]
  },
  {
   "cell_type": "markdown",
   "id": "f2d13202",
   "metadata": {},
   "source": [
    "# Memory management\n",
    "\n",
    "pyClesperanto is an image processing library. This means that it will apply operations on data which are commonly stored using the numpy library in Python. However, numpy arrays are stored for CPU processing, they are not directly accessible by the GPU. If we want to apply GPU-accelerate operation on arrays, we need to send the data into the GPUs memory.\n",
    "\n",
    "For this, the library provides an array class called `OCLArray` which offer a similar interface as numpy arrays and allows to hold data in the GPU memory.\n",
    "\n",
    "\n",
    "We will base the data manipulation on three operations:\n",
    "- `create` a memory space on the device\n",
    "- `push` data into the device\n",
    "- `pull` the data from the device"
   ]
  },
  {
   "cell_type": "code",
   "execution_count": 15,
   "id": "6bf8df9a",
   "metadata": {},
   "outputs": [],
   "source": [
    "array = np.ones((3, 7, 10))"
   ]
  },
  {
   "cell_type": "markdown",
   "id": "400118a3",
   "metadata": {},
   "source": [
    "### Push \n",
    "\n",
    "The `cle.push()` allows you to push memory from you CPU to your GPU. If you try to process an array or image which is not pushed, the library will push it automatically. The returned object will be your data in the GPU, ready to be processed"
   ]
  },
  {
   "cell_type": "code",
   "execution_count": 16,
   "id": "89615bf0",
   "metadata": {},
   "outputs": [
    {
     "name": "stdout",
     "output_type": "stream",
     "text": [
      "<class 'pyclesperanto._pyclesperanto._Array'> (3, 7, 10) float32\n"
     ]
    }
   ],
   "source": [
    "gpu_image = cle.push(array)\n",
    "print(type(gpu_image), gpu_image.shape, gpu_image.dtype)"
   ]
  },
  {
   "cell_type": "markdown",
   "id": "ffe0c7fc",
   "metadata": {},
   "source": [
    "### Pull \n",
    "\n",
    "`cle.pull()` is the reverse of push, we transfert back the data from the GPU to the CPU memory. This is also a mandatory step at the end of your processing pipeline or if you want to look at your data."
   ]
  },
  {
   "cell_type": "code",
   "execution_count": 17,
   "id": "76ae38b1",
   "metadata": {},
   "outputs": [
    {
     "name": "stdout",
     "output_type": "stream",
     "text": [
      "<class 'numpy.ndarray'> (3, 7, 10) float32\n"
     ]
    }
   ],
   "source": [
    "cpu_image = cle.pull(gpu_image)\n",
    "print(type(cpu_image), cpu_image.shape, cpu_image.dtype)"
   ]
  },
  {
   "cell_type": "markdown",
   "id": "28e62b75",
   "metadata": {},
   "source": [
    "### Create \n",
    "\n",
    "Finally `cle.create()` allow you to alocate memory directly on you GPU.  The create memory is empty and need to be filled. This is used when you need to specify aspect of the output data you are expecting, like specific data type or shape."
   ]
  },
  {
   "cell_type": "code",
   "execution_count": 18,
   "id": "5907d366",
   "metadata": {},
   "outputs": [
    {
     "name": "stdout",
     "output_type": "stream",
     "text": [
      "<class 'pyclesperanto._pyclesperanto._Array'> (3, 7, 10) float32\n"
     ]
    }
   ],
   "source": [
    "empty_gpu_memory = cle.create(array.shape)\n",
    "print(type(empty_gpu_memory), empty_gpu_memory.shape, empty_gpu_memory.dtype)"
   ]
  },
  {
   "cell_type": "markdown",
   "id": "d0b09ab5",
   "metadata": {},
   "source": [
    "# Processing GPU images\n",
    "\n",
    "All operations follows the same pattern:\n",
    "- cle.**operation_name**(_input_, _output_, _parameters_)\n",
    "\n",
    "where:\n",
    "- 'cle' is the librairy handle\n",
    "- 'operation_name' is the name of the operation you want to apply\n",
    "- 'input' is the input data\n",
    "- 'output' is the output data (Optional)\n",
    "- 'parameters' are the parameters of the operation (Optional if using default values)\n",
    "\n",
    "You can access a full documentation on how to use an operation by running `cle.operation_name?`"
   ]
  },
  {
   "cell_type": "code",
   "execution_count": 19,
   "id": "86012528",
   "metadata": {},
   "outputs": [
    {
     "name": "stdout",
     "output_type": "stream",
     "text": [
      "\u001b[0;31mSignature:\u001b[0m\n",
      "\u001b[0mcle\u001b[0m\u001b[0;34m.\u001b[0m\u001b[0mgaussian_blur\u001b[0m\u001b[0;34m(\u001b[0m\u001b[0;34m\u001b[0m\n",
      "\u001b[0;34m\u001b[0m    \u001b[0minput_image\u001b[0m\u001b[0;34m:\u001b[0m \u001b[0mUnion\u001b[0m\u001b[0;34m[\u001b[0m\u001b[0mnumpy\u001b[0m\u001b[0;34m.\u001b[0m\u001b[0mndarray\u001b[0m\u001b[0;34m,\u001b[0m \u001b[0mpyclesperanto\u001b[0m\u001b[0;34m.\u001b[0m\u001b[0m_pyclesperanto\u001b[0m\u001b[0;34m.\u001b[0m\u001b[0m_Array\u001b[0m\u001b[0;34m]\u001b[0m\u001b[0;34m,\u001b[0m\u001b[0;34m\u001b[0m\n",
      "\u001b[0;34m\u001b[0m    \u001b[0moutput_image\u001b[0m\u001b[0;34m:\u001b[0m \u001b[0mUnion\u001b[0m\u001b[0;34m[\u001b[0m\u001b[0mnumpy\u001b[0m\u001b[0;34m.\u001b[0m\u001b[0mndarray\u001b[0m\u001b[0;34m,\u001b[0m \u001b[0mpyclesperanto\u001b[0m\u001b[0;34m.\u001b[0m\u001b[0m_pyclesperanto\u001b[0m\u001b[0;34m.\u001b[0m\u001b[0m_Array\u001b[0m\u001b[0;34m,\u001b[0m \u001b[0mNoneType\u001b[0m\u001b[0;34m]\u001b[0m \u001b[0;34m=\u001b[0m \u001b[0;32mNone\u001b[0m\u001b[0;34m,\u001b[0m\u001b[0;34m\u001b[0m\n",
      "\u001b[0;34m\u001b[0m    \u001b[0msigma_x\u001b[0m\u001b[0;34m:\u001b[0m \u001b[0mfloat\u001b[0m \u001b[0;34m=\u001b[0m \u001b[0;36m0\u001b[0m\u001b[0;34m,\u001b[0m\u001b[0;34m\u001b[0m\n",
      "\u001b[0;34m\u001b[0m    \u001b[0msigma_y\u001b[0m\u001b[0;34m:\u001b[0m \u001b[0mfloat\u001b[0m \u001b[0;34m=\u001b[0m \u001b[0;36m0\u001b[0m\u001b[0;34m,\u001b[0m\u001b[0;34m\u001b[0m\n",
      "\u001b[0;34m\u001b[0m    \u001b[0msigma_z\u001b[0m\u001b[0;34m:\u001b[0m \u001b[0mfloat\u001b[0m \u001b[0;34m=\u001b[0m \u001b[0;36m0\u001b[0m\u001b[0;34m,\u001b[0m\u001b[0;34m\u001b[0m\n",
      "\u001b[0;34m\u001b[0m    \u001b[0mdevice\u001b[0m\u001b[0;34m:\u001b[0m \u001b[0mOptional\u001b[0m\u001b[0;34m[\u001b[0m\u001b[0mpyclesperanto\u001b[0m\u001b[0;34m.\u001b[0m\u001b[0m_pyclesperanto\u001b[0m\u001b[0;34m.\u001b[0m\u001b[0m_Device\u001b[0m\u001b[0;34m]\u001b[0m \u001b[0;34m=\u001b[0m \u001b[0;32mNone\u001b[0m\u001b[0;34m,\u001b[0m\u001b[0;34m\u001b[0m\n",
      "\u001b[0;34m\u001b[0m\u001b[0;34m)\u001b[0m \u001b[0;34m->\u001b[0m \u001b[0mUnion\u001b[0m\u001b[0;34m[\u001b[0m\u001b[0mnumpy\u001b[0m\u001b[0;34m.\u001b[0m\u001b[0mndarray\u001b[0m\u001b[0;34m,\u001b[0m \u001b[0mpyclesperanto\u001b[0m\u001b[0;34m.\u001b[0m\u001b[0m_pyclesperanto\u001b[0m\u001b[0;34m.\u001b[0m\u001b[0m_Array\u001b[0m\u001b[0;34m]\u001b[0m\u001b[0;34m\u001b[0m\u001b[0;34m\u001b[0m\u001b[0m\n",
      "\u001b[0;31mDocstring:\u001b[0m\n",
      "Computes the Gaussian blurred image of an image given sigma values in X, Y and\n",
      "Z. Thus, the filter kernel can have nonisotropic shape. The implementation is\n",
      "done separable. In case a sigma equals zero, the direction is not blurred.\n",
      "\n",
      "Parameters\n",
      "----------\n",
      "input_image: Image \n",
      "    Input image to process.\n",
      "output_image: Optional[Image] (= None)\n",
      "    Output result image.\n",
      "sigma_x: float (= 0)\n",
      "    Sigma value along the x axis.\n",
      "sigma_y: float (= 0)\n",
      "    Sigma value along the y axis.\n",
      "sigma_z: float (= 0)\n",
      "    Sigma value along the z axis.\n",
      "device: Optional[Device] (= None)\n",
      "    Device to perform the operation on.\n",
      "\n",
      "Returns\n",
      "-------\n",
      "Image\n",
      "\n",
      "References\n",
      "----------\n",
      "[1] https://clij.github.io/clij2-docs/reference_gaussianBlur3D\n",
      "\u001b[0;31mFile:\u001b[0m      ~/Libraries/miniforge3/envs/proto/lib/python3.12/site-packages/pyclesperanto/_tier1.py\n",
      "\u001b[0;31mType:\u001b[0m      function"
     ]
    }
   ],
   "source": [
    "cle.gaussian_blur?"
   ]
  },
  {
   "cell_type": "markdown",
   "id": "f160e3ab",
   "metadata": {},
   "source": [
    "## Exercise : process an image\n",
    "\n",
    "Let's `push` our favorite image into memory, apply an operation (gaussian blur? why not more?) and pull the result back for display"
   ]
  },
  {
   "cell_type": "code",
   "execution_count": 22,
   "id": "36b102c0",
   "metadata": {},
   "outputs": [],
   "source": [
    "# `imread` and `imshow` functions from scikit-image have been imported above, you can use them to load and display images\n",
    "# alternatively, you can use the `cle.imshow()` to directly display a GPU image (it will still do a pull operation in the background)\n",
    "\n",
    "image = imread(\"../../data/blobs.tif\")\n",
    "#TODO\n"
   ]
  },
  {
   "cell_type": "markdown",
   "id": "bf3a88b2",
   "metadata": {},
   "source": []
  }
 ],
 "metadata": {
  "kernelspec": {
   "display_name": "proto",
   "language": "python",
   "name": "python3"
  },
  "language_info": {
   "codemirror_mode": {
    "name": "ipython",
    "version": 3
   },
   "file_extension": ".py",
   "mimetype": "text/x-python",
   "name": "python",
   "nbconvert_exporter": "python",
   "pygments_lexer": "ipython3",
   "version": "3.12.1"
  }
 },
 "nbformat": 4,
 "nbformat_minor": 5
}
